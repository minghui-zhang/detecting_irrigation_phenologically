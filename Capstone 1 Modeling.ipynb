{
 "cells": [
  {
   "cell_type": "code",
   "execution_count": 72,
   "metadata": {},
   "outputs": [],
   "source": [
    "import pandas as pd\n",
    "import matplotlib.pyplot as plt\n",
    "import numpy as np\n",
    "import seaborn as sns\n",
    "from scipy import stats\n",
    "\n",
    "from sklearn.model_selection import train_test_split\n",
    "from sklearn.pipeline import Pipeline\n",
    "from sklearn.impute import SimpleImputer\n",
    "from sklearn.preprocessing import OneHotEncoder\n",
    "from sklearn.compose import ColumnTransformer\n",
    "from sklearn.ensemble import RandomForestClassifier\n",
    "from sklearn.model_selection import RandomizedSearchCV"
   ]
  },
  {
   "cell_type": "code",
   "execution_count": 35,
   "metadata": {},
   "outputs": [
    {
     "data": {
      "text/html": [
       "<div>\n",
       "<style scoped>\n",
       "    .dataframe tbody tr th:only-of-type {\n",
       "        vertical-align: middle;\n",
       "    }\n",
       "\n",
       "    .dataframe tbody tr th {\n",
       "        vertical-align: top;\n",
       "    }\n",
       "\n",
       "    .dataframe thead th {\n",
       "        text-align: right;\n",
       "    }\n",
       "</style>\n",
       "<table border=\"1\" class=\"dataframe\">\n",
       "  <thead>\n",
       "    <tr style=\"text-align: right;\">\n",
       "      <th></th>\n",
       "      <th>mod_B0_0</th>\n",
       "      <th>mod_B0_1</th>\n",
       "      <th>mod_B0_2</th>\n",
       "      <th>mod_B0_3</th>\n",
       "      <th>mod_B0_4</th>\n",
       "      <th>mod_B0_5</th>\n",
       "      <th>mod_B0_6</th>\n",
       "      <th>mod_B0_7</th>\n",
       "      <th>mod_B0_8</th>\n",
       "      <th>mod_B0_9</th>\n",
       "      <th>...</th>\n",
       "      <th>EVI_at_min2_missing</th>\n",
       "      <th>EVI_at_infl2_missing</th>\n",
       "      <th>quarterPeriod_first_missing</th>\n",
       "      <th>EVI_at_peak2_missing</th>\n",
       "      <th>fittedAmplitude_second_missing</th>\n",
       "      <th>quarterPeriod_second_missing</th>\n",
       "      <th>peakDiff_missing</th>\n",
       "      <th>peakDay_first_missing</th>\n",
       "      <th>EVI_at_infl1_missing</th>\n",
       "      <th>maxEVI_second_missing</th>\n",
       "    </tr>\n",
       "  </thead>\n",
       "  <tbody>\n",
       "    <tr>\n",
       "      <th>0</th>\n",
       "      <td>0.200212</td>\n",
       "      <td>0.214260</td>\n",
       "      <td>0.095794</td>\n",
       "      <td>0.237088</td>\n",
       "      <td>0.246048</td>\n",
       "      <td>0.336598</td>\n",
       "      <td>0.310465</td>\n",
       "      <td>0.270645</td>\n",
       "      <td>0.188515</td>\n",
       "      <td>0.204236</td>\n",
       "      <td>...</td>\n",
       "      <td>False</td>\n",
       "      <td>False</td>\n",
       "      <td>False</td>\n",
       "      <td>False</td>\n",
       "      <td>False</td>\n",
       "      <td>False</td>\n",
       "      <td>False</td>\n",
       "      <td>False</td>\n",
       "      <td>False</td>\n",
       "      <td>False</td>\n",
       "    </tr>\n",
       "    <tr>\n",
       "      <th>1</th>\n",
       "      <td>0.444825</td>\n",
       "      <td>0.378180</td>\n",
       "      <td>0.418023</td>\n",
       "      <td>0.367307</td>\n",
       "      <td>0.417435</td>\n",
       "      <td>0.362797</td>\n",
       "      <td>0.405056</td>\n",
       "      <td>0.367728</td>\n",
       "      <td>0.337898</td>\n",
       "      <td>0.318900</td>\n",
       "      <td>...</td>\n",
       "      <td>False</td>\n",
       "      <td>False</td>\n",
       "      <td>False</td>\n",
       "      <td>False</td>\n",
       "      <td>False</td>\n",
       "      <td>False</td>\n",
       "      <td>False</td>\n",
       "      <td>False</td>\n",
       "      <td>False</td>\n",
       "      <td>False</td>\n",
       "    </tr>\n",
       "    <tr>\n",
       "      <th>2</th>\n",
       "      <td>0.391427</td>\n",
       "      <td>0.342404</td>\n",
       "      <td>0.330443</td>\n",
       "      <td>0.335222</td>\n",
       "      <td>0.358131</td>\n",
       "      <td>0.323579</td>\n",
       "      <td>0.279447</td>\n",
       "      <td>0.416388</td>\n",
       "      <td>0.401079</td>\n",
       "      <td>0.314834</td>\n",
       "      <td>...</td>\n",
       "      <td>True</td>\n",
       "      <td>True</td>\n",
       "      <td>False</td>\n",
       "      <td>True</td>\n",
       "      <td>True</td>\n",
       "      <td>False</td>\n",
       "      <td>True</td>\n",
       "      <td>False</td>\n",
       "      <td>False</td>\n",
       "      <td>False</td>\n",
       "    </tr>\n",
       "    <tr>\n",
       "      <th>3</th>\n",
       "      <td>0.221930</td>\n",
       "      <td>0.175103</td>\n",
       "      <td>0.170139</td>\n",
       "      <td>0.203599</td>\n",
       "      <td>0.170929</td>\n",
       "      <td>0.260337</td>\n",
       "      <td>0.205148</td>\n",
       "      <td>0.260194</td>\n",
       "      <td>0.245417</td>\n",
       "      <td>0.328592</td>\n",
       "      <td>...</td>\n",
       "      <td>False</td>\n",
       "      <td>False</td>\n",
       "      <td>False</td>\n",
       "      <td>False</td>\n",
       "      <td>False</td>\n",
       "      <td>False</td>\n",
       "      <td>False</td>\n",
       "      <td>False</td>\n",
       "      <td>False</td>\n",
       "      <td>False</td>\n",
       "    </tr>\n",
       "    <tr>\n",
       "      <th>4</th>\n",
       "      <td>0.400937</td>\n",
       "      <td>0.367652</td>\n",
       "      <td>0.279104</td>\n",
       "      <td>0.299323</td>\n",
       "      <td>0.280226</td>\n",
       "      <td>0.304503</td>\n",
       "      <td>0.175922</td>\n",
       "      <td>0.198228</td>\n",
       "      <td>0.220535</td>\n",
       "      <td>0.371426</td>\n",
       "      <td>...</td>\n",
       "      <td>False</td>\n",
       "      <td>False</td>\n",
       "      <td>False</td>\n",
       "      <td>False</td>\n",
       "      <td>False</td>\n",
       "      <td>False</td>\n",
       "      <td>False</td>\n",
       "      <td>False</td>\n",
       "      <td>False</td>\n",
       "      <td>False</td>\n",
       "    </tr>\n",
       "  </tbody>\n",
       "</table>\n",
       "<p>5 rows × 130 columns</p>\n",
       "</div>"
      ],
      "text/plain": [
       "   mod_B0_0  mod_B0_1  mod_B0_2  mod_B0_3  mod_B0_4  mod_B0_5  mod_B0_6  \\\n",
       "0  0.200212  0.214260  0.095794  0.237088  0.246048  0.336598  0.310465   \n",
       "1  0.444825  0.378180  0.418023  0.367307  0.417435  0.362797  0.405056   \n",
       "2  0.391427  0.342404  0.330443  0.335222  0.358131  0.323579  0.279447   \n",
       "3  0.221930  0.175103  0.170139  0.203599  0.170929  0.260337  0.205148   \n",
       "4  0.400937  0.367652  0.279104  0.299323  0.280226  0.304503  0.175922   \n",
       "\n",
       "   mod_B0_7  mod_B0_8  mod_B0_9          ...            EVI_at_min2_missing  \\\n",
       "0  0.270645  0.188515  0.204236          ...                          False   \n",
       "1  0.367728  0.337898  0.318900          ...                          False   \n",
       "2  0.416388  0.401079  0.314834          ...                           True   \n",
       "3  0.260194  0.245417  0.328592          ...                          False   \n",
       "4  0.198228  0.220535  0.371426          ...                          False   \n",
       "\n",
       "   EVI_at_infl2_missing  quarterPeriod_first_missing  EVI_at_peak2_missing  \\\n",
       "0                 False                        False                 False   \n",
       "1                 False                        False                 False   \n",
       "2                  True                        False                  True   \n",
       "3                 False                        False                 False   \n",
       "4                 False                        False                 False   \n",
       "\n",
       "   fittedAmplitude_second_missing  quarterPeriod_second_missing  \\\n",
       "0                           False                         False   \n",
       "1                           False                         False   \n",
       "2                            True                         False   \n",
       "3                           False                         False   \n",
       "4                           False                         False   \n",
       "\n",
       "   peakDiff_missing  peakDay_first_missing  EVI_at_infl1_missing  \\\n",
       "0             False                  False                 False   \n",
       "1             False                  False                 False   \n",
       "2              True                  False                 False   \n",
       "3             False                  False                 False   \n",
       "4             False                  False                 False   \n",
       "\n",
       "   maxEVI_second_missing  \n",
       "0                  False  \n",
       "1                  False  \n",
       "2                  False  \n",
       "3                  False  \n",
       "4                  False  \n",
       "\n",
       "[5 rows x 130 columns]"
      ]
     },
     "execution_count": 35,
     "metadata": {},
     "output_type": "execute_result"
    }
   ],
   "source": [
    "data = pd.read_csv('trainingpts_cleaned.csv', index_col = 0)\n",
    "\n",
    "data.head()"
   ]
  },
  {
   "cell_type": "code",
   "execution_count": 60,
   "metadata": {},
   "outputs": [],
   "source": [
    "# separate the predictor names into categories (for feature selection later)\n",
    "\n",
    "mod_ts_cols = [colname for colname in data if colname.startswith('mod')]\n",
    "non_ts_cols = list(set(data.columns) - set(mod_ts_cols))\n",
    "phenospectral_cols = ['EVI_at_infl2', 'quarterPeriod_first','EVI_at_min1','quarterPeriod_second','fittedAmplitude_second',\n",
    "                     'EVI_at_infl1','peakDay_first','EVI_at_peak2','peakDiff', 'maxEVI_first','EVI_at_min2',\n",
    "                     'peakDay_second', 'maxEVI_second', 'EVI_at_peak1', 'fittedAmplitude_first',]\n",
    "missingness_cols = [colname for colname in data if colname.endswith('missing')]\n",
    "geographic_cols = ['lat', 'lon', 'state', 'region']\n",
    "numerical_cols = mod_ts_cols + phenospectral_cols + missingness_cols\n",
    "categorical_cols = ['region', 'state']\n",
    "all_predictors = list(data.columns)\n",
    "all_predictors.remove('class')"
   ]
  },
  {
   "cell_type": "code",
   "execution_count": 59,
   "metadata": {},
   "outputs": [
    {
     "name": "stdout",
     "output_type": "stream",
     "text": [
      "['mod_B0_0', 'mod_B0_1', 'mod_B0_2', 'mod_B0_3', 'mod_B0_4', 'mod_B0_5', 'mod_B0_6', 'mod_B0_7', 'mod_B0_8', 'mod_B0_9', 'mod_B0_10', 'mod_B0_11', 'mod_B0_12', 'mod_B0_13', 'mod_B0_14', 'mod_B0_15', 'mod_B0_16', 'mod_B0_17', 'mod_B0_18', 'mod_B0_19', 'mod_B0_20', 'mod_B0_21', 'mod_B0_22', 'mod_B0_23', 'mod_B0_24', 'mod_B0_25', 'mod_B0_26', 'mod_B0_27', 'mod_B0_28', 'mod_B0_29', 'mod_B0_30', 'mod_B0_31', 'mod_B0_32', 'mod_B0_33', 'mod_B0_34', 'mod_B0_35', 'mod_B0_36', 'mod_B0_37', 'mod_B0_38', 'mod_B0_39', 'mod_B0_40', 'mod_B0_41', 'mod_B0_42', 'mod_B0_43', 'mod_B0_44', 'mod_B0_45', 'mod_B0_46', 'mod_B0_47', 'mod_B0_49', 'mod_B0_50', 'mod_B0_51', 'mod_B0_52', 'mod_B0_53', 'mod_B0_54', 'mod_B0_55', 'mod_B0_56', 'mod_B0_57', 'mod_B0_58', 'mod_B0_59', 'mod_B0_60', 'mod_B0_61', 'mod_B0_62', 'mod_B0_63', 'mod_B0_64', 'mod_B0_65', 'mod_B0_66', 'mod_B0_67', 'mod_B0_68', 'mod_B0_69', 'mod_B0_70', 'mod_B0_71', 'mod_B0_72', 'mod_B0_73', 'mod_B0_74', 'mod_B0_75', 'mod_B0_76', 'mod_B0_77', 'mod_B0_78', 'mod_B0_79', 'mod_B0_80', 'mod_B0_81', 'mod_B0_82', 'mod_B0_83', 'mod_B0_84', 'mod_B0_85', 'mod_B0_86', 'mod_B0_87', 'mod_B0_88', 'mod_B0_89', 'mod_B0_90', 'mod_B0_91', 'elevation', 'quarterPeriod_first', 'lat', 'state', 'hillshade', 'region', 'lon', 'peakDay_second', 'fittedAmplitude_first', 'EVI_at_peak1', 'EVI_at_min1', 'maxEVI_first', 'EVI_at_peak2', 'fittedAmplitude_second', 'aspect', 'quarterPeriod_second', 'peakDiff', 'EVI_at_min2', 'EVI_at_infl2', 'slope', 'peakDay_first', 'EVI_at_infl1', 'maxEVI_second', 'peakDay_second_missing', 'fittedAmplitude_first_missing', 'EVI_at_peak1_missing', 'EVI_at_min1_missing', 'maxEVI_first_missing', 'EVI_at_min2_missing', 'EVI_at_infl2_missing', 'quarterPeriod_first_missing', 'EVI_at_peak2_missing', 'fittedAmplitude_second_missing', 'quarterPeriod_second_missing', 'peakDiff_missing', 'peakDay_first_missing', 'EVI_at_infl1_missing', 'maxEVI_second_missing']\n"
     ]
    }
   ],
   "source": [
    "\n",
    "print(all_predictors)"
   ]
  },
  {
   "cell_type": "code",
   "execution_count": 52,
   "metadata": {},
   "outputs": [
    {
     "name": "stdout",
     "output_type": "stream",
     "text": [
      "7927    1\n",
      "1740    0\n",
      "359     0\n",
      "7196    1\n",
      "38      0\n",
      "Name: class, dtype: int64\n"
     ]
    }
   ],
   "source": [
    "# include all information (timeseries, phenological and geographic) as predictors\n",
    "X = data[all_predictors]\n",
    "y = data['class']\n",
    "\n",
    "# split into train and test sets\n",
    "X_train, X_test, y_train, y_test = train_test_split(X, y, test_size = 0.3, random_state = 1)\n",
    "\n",
    "print(y_test.head())"
   ]
  },
  {
   "cell_type": "code",
   "execution_count": 76,
   "metadata": {},
   "outputs": [
    {
     "name": "stderr",
     "output_type": "stream",
     "text": [
      "C:\\ProgramData\\Anaconda3\\lib\\site-packages\\sklearn\\ensemble\\forest.py:246: FutureWarning: The default value of n_estimators will change from 10 in version 0.20 to 100 in 0.22.\n",
      "  \"10 in version 0.20 to 100 in 0.22.\", FutureWarning)\n"
     ]
    },
    {
     "name": "stdout",
     "output_type": "stream",
     "text": [
      "0.843520090548953\n"
     ]
    }
   ],
   "source": [
    "# MODEL 1: mean imputation, then random forest with no parameter tuning, and using all predictors\n",
    "\n",
    "# set predictors\n",
    "numerical_cols_all = numerical_cols\n",
    "categorical_cols_all = categorical_cols\n",
    "\n",
    "# preprocessing pipelines for both numeric and categorical data\n",
    "numerical_transformer = Pipeline(steps=[\n",
    "    ('imputer', SimpleImputer(strategy='mean'))])\n",
    "\n",
    "categorical_transformer = Pipeline(steps=[\n",
    "    ('imputer', SimpleImputer(strategy='constant', fill_value='missing')),\n",
    "    ('onehot', OneHotEncoder(handle_unknown='ignore'))])\n",
    "\n",
    "preprocessor_all = ColumnTransformer(\n",
    "    transformers=[\n",
    "        ('num', numerical_transformer, numerical_cols_all),\n",
    "        ('cat', categorical_transformer, categorical_cols_all)])\n",
    "\n",
    "# Append classifier to preprocessing pipeline\n",
    "pipeline_allpred_notuning = Pipeline(steps=[('preprocessor', preprocessor_all),\n",
    "                      ('rf', RandomForestClassifier())])\n",
    "\n",
    "# training\n",
    "pipeline_allpred_notuning.fit(X_train, y_train)\n",
    "\n",
    "# prediction\n",
    "acc_allpred_notuning = pipeline_allpred_notuning.score(X_test, y_test)\n",
    "\n",
    "print(acc_allpred_notuning)"
   ]
  },
  {
   "cell_type": "code",
   "execution_count": 79,
   "metadata": {},
   "outputs": [
    {
     "name": "stderr",
     "output_type": "stream",
     "text": [
      "C:\\ProgramData\\Anaconda3\\lib\\site-packages\\sklearn\\ensemble\\forest.py:246: FutureWarning: The default value of n_estimators will change from 10 in version 0.20 to 100 in 0.22.\n",
      "  \"10 in version 0.20 to 100 in 0.22.\", FutureWarning)\n"
     ]
    },
    {
     "name": "stdout",
     "output_type": "stream",
     "text": [
      "0.7606112054329371\n"
     ]
    }
   ],
   "source": [
    "# MODEL 2: mean imputation, random forest with no parameter tuning, using all predictors EXCEPT geographic\n",
    "\n",
    "# set predictors\n",
    "numerical_cols_nongeo = list(set(numerical_cols) - set(geographic_cols))\n",
    "categorical_cols_nongeo = list(set(categorical_cols) - set(geographic_cols))\n",
    "\n",
    "# preprocessing pipelines for both numeric and categorical data\n",
    "numerical_transformer = Pipeline(steps=[\n",
    "    ('imputer', SimpleImputer(strategy='mean'))])\n",
    "\n",
    "categorical_transformer = Pipeline(steps=[\n",
    "    ('imputer', SimpleImputer(strategy='constant', fill_value='missing')),\n",
    "    ('onehot', OneHotEncoder(handle_unknown='ignore'))])\n",
    "\n",
    "preprocessor_nongeo = ColumnTransformer(\n",
    "    transformers=[\n",
    "        ('num', numerical_transformer, numerical_cols_nongeo),\n",
    "        ('cat', categorical_transformer, categorical_cols_nongeo)])\n",
    "\n",
    "# Append classifier to preprocessing pipeline\n",
    "pipeline_nongeo_notuning = Pipeline(steps=[('preprocessor', preprocessor_nongeo),\n",
    "                      ('rf', RandomForestClassifier())])\n",
    "\n",
    "# training\n",
    "pipeline_nongeo_notuning.fit(X_train, y_train)\n",
    "\n",
    "# prediction\n",
    "acc_nongeo_notuning = pipeline_nongeo_notuning.score(X_test, y_test)\n",
    "print(acc_nongeo_notuning)"
   ]
  },
  {
   "cell_type": "markdown",
   "metadata": {},
   "source": [
    "When we get rid of geographic features, our prediction accuracy lowers from 0.84 to 0.76. This decline may be worth the extra predictive power if irrigation expands geographically."
   ]
  },
  {
   "cell_type": "code",
   "execution_count": 82,
   "metadata": {},
   "outputs": [
    {
     "name": "stdout",
     "output_type": "stream",
     "text": [
      "Fitting 3 folds for each of 100 candidates, totalling 300 fits\n"
     ]
    },
    {
     "name": "stderr",
     "output_type": "stream",
     "text": [
      "[Parallel(n_jobs=-1)]: Using backend LokyBackend with 12 concurrent workers.\n",
      "[Parallel(n_jobs=-1)]: Done  17 tasks      | elapsed:  1.6min\n",
      "[Parallel(n_jobs=-1)]: Done 138 tasks      | elapsed: 15.0min\n",
      "[Parallel(n_jobs=-1)]: Done 300 out of 300 | elapsed: 29.9min finished\n"
     ]
    },
    {
     "ename": "NameError",
     "evalue": "name 'grid_search' is not defined",
     "output_type": "error",
     "traceback": [
      "\u001b[1;31m---------------------------------------------------------------------------\u001b[0m",
      "\u001b[1;31mNameError\u001b[0m                                 Traceback (most recent call last)",
      "\u001b[1;32m<ipython-input-82-ac710b9377c4>\u001b[0m in \u001b[0;36m<module>\u001b[1;34m\u001b[0m\n\u001b[0;32m     50\u001b[0m \u001b[1;33m\u001b[0m\u001b[0m\n\u001b[0;32m     51\u001b[0m print((\"best accuracy from grid search: %.3f\"\n\u001b[1;32m---> 52\u001b[1;33m        % grid_search.score(X_test, y_test)))\n\u001b[0m",
      "\u001b[1;31mNameError\u001b[0m: name 'grid_search' is not defined"
     ]
    }
   ],
   "source": [
    "# MODEL 3: random forest with tuning, using all predictors EXCEPT geographic\n",
    "\n",
    "# set predictors\n",
    "numerical_cols_nongeo = list(set(numerical_cols) - set(geographic_cols))\n",
    "categorical_cols_nongeo = list(set(categorical_cols) - set(geographic_cols))\n",
    "\n",
    "# set tuning space\n",
    "\n",
    "n_estimators = [int(x) for x in np.linspace(start = 200, stop = 2000, num = 10)] # Number of trees in random forest\n",
    "max_features = ['auto', 'sqrt'] # Number of features to consider at every split\n",
    "max_depth = [int(x) for x in np.linspace(10, 110, num = 11)] # Maximum number of levels in tree\n",
    "max_depth.append(None)\n",
    "min_samples_split = [2, 5, 10] # Minimum number of samples required to split a node\n",
    "min_samples_leaf = [1, 2, 4] # Minimum number of samples required at each leaf node\n",
    "bootstrap = [True, False] # Method of selecting samples for training each tree\n",
    "\n",
    "# Create the random grid\n",
    "random_grid = {'preprocessor__num__imputer__strategy': ['mean', 'median'],\n",
    "                'rf__n_estimators': n_estimators,\n",
    "               'rf__max_features': max_features,\n",
    "               'rf__max_depth': max_depth,\n",
    "               'rf__min_samples_split': min_samples_split,\n",
    "               'rf__min_samples_leaf': min_samples_leaf,\n",
    "               'rf__bootstrap': bootstrap}\n",
    "\n",
    "# preprocessing pipelines for both numeric and categorical data\n",
    "numerical_transformer = Pipeline(steps=[\n",
    "    ('imputer', SimpleImputer())])\n",
    "\n",
    "categorical_transformer = Pipeline(steps=[\n",
    "    ('imputer', SimpleImputer(strategy='constant', fill_value='missing')),\n",
    "    ('onehot', OneHotEncoder(handle_unknown='ignore'))])\n",
    "\n",
    "preprocessor_nongeo = ColumnTransformer(\n",
    "    transformers=[\n",
    "        ('num', numerical_transformer, numerical_cols_nongeo),\n",
    "        ('cat', categorical_transformer, categorical_cols_nongeo)])\n",
    "\n",
    "# Append classifier to preprocessing pipeline\n",
    "pipeline_nongeo = Pipeline(steps=[('preprocessor', preprocessor_nongeo),\n",
    "                      ('rf', RandomForestClassifier())])\n",
    "\n",
    "rf_nongeo_tuned = RandomizedSearchCV(estimator = pipeline_nongeo, param_distributions = random_grid, n_iter = 100, cv = 3, verbose=2, random_state=42, n_jobs = -1)\n",
    "# Fit the random search model\n",
    "rf_nongeo_tuned.fit(X_train, y_train)\n",
    "\n",
    "print(rf_nongeo_tuned.best_params_)\n"
   ]
  },
  {
   "cell_type": "markdown",
   "metadata": {},
   "source": [
    "results of parameter tuning: {'rf__n_estimators': 1800,\n",
    " 'rf__min_samples_split': 2,\n",
    " 'rf__min_samples_leaf': 1,\n",
    " 'rf__max_features': 'auto',\n",
    " 'rf__max_depth': 50,\n",
    " 'rf__bootstrap': False,\n",
    " 'preprocessor__num__imputer__strategy': 'mean'}\n"
   ]
  },
  {
   "cell_type": "code",
   "execution_count": 85,
   "metadata": {},
   "outputs": [
    {
     "name": "stdout",
     "output_type": "stream",
     "text": [
      "best accuracy from grid search, with no geographic features: 0.829\n"
     ]
    }
   ],
   "source": [
    "print((\"best accuracy from grid search, with no geographic features: %.3f\"\n",
    "       % rf_nongeo_tuned.score(X_test, y_test)))"
   ]
  },
  {
   "cell_type": "markdown",
   "metadata": {},
   "source": [
    "Following cross validation with grid search, we find that accuracy increases to 0.83 from 0.76 without geographic features. This performance is on par with the accuracy seen with the untuned model that uses geographic features."
   ]
  },
  {
   "cell_type": "code",
   "execution_count": 86,
   "metadata": {},
   "outputs": [
    {
     "name": "stdout",
     "output_type": "stream",
     "text": [
      "Fitting 3 folds for each of 100 candidates, totalling 300 fits\n"
     ]
    },
    {
     "name": "stderr",
     "output_type": "stream",
     "text": [
      "[Parallel(n_jobs=-1)]: Using backend LokyBackend with 12 concurrent workers.\n",
      "[Parallel(n_jobs=-1)]: Done  17 tasks      | elapsed:  1.5min\n",
      "[Parallel(n_jobs=-1)]: Done 138 tasks      | elapsed: 13.7min\n",
      "[Parallel(n_jobs=-1)]: Done 300 out of 300 | elapsed: 27.4min finished\n"
     ]
    },
    {
     "name": "stdout",
     "output_type": "stream",
     "text": [
      "{'rf__n_estimators': 1600, 'rf__min_samples_split': 2, 'rf__min_samples_leaf': 1, 'rf__max_features': 'sqrt', 'rf__max_depth': None, 'rf__bootstrap': False, 'preprocessor__num__imputer__strategy': 'mean'}\n",
      "best accuracy from grid search, with all features: 0.882\n"
     ]
    }
   ],
   "source": [
    "# MODEL 4: random forest with tuning, using all predictors\n",
    "\n",
    "# set predictors\n",
    "numerical_cols_all = numerical_cols\n",
    "categorical_cols_all = categorical_cols\n",
    "\n",
    "# set tuning space\n",
    "n_estimators = [int(x) for x in np.linspace(start = 200, stop = 2000, num = 10)] # Number of trees in random forest\n",
    "max_features = ['auto', 'sqrt'] # Number of features to consider at every split\n",
    "max_depth = [int(x) for x in np.linspace(10, 110, num = 11)] # Maximum number of levels in tree\n",
    "max_depth.append(None)\n",
    "min_samples_split = [2, 5, 10] # Minimum number of samples required to split a node\n",
    "min_samples_leaf = [1, 2, 4] # Minimum number of samples required at each leaf node\n",
    "bootstrap = [True, False] # Method of selecting samples for training each tree\n",
    "\n",
    "# Create the random grid\n",
    "random_grid = {'preprocessor__num__imputer__strategy': ['mean', 'median'],\n",
    "                'rf__n_estimators': n_estimators,\n",
    "               'rf__max_features': max_features,\n",
    "               'rf__max_depth': max_depth,\n",
    "               'rf__min_samples_split': min_samples_split,\n",
    "               'rf__min_samples_leaf': min_samples_leaf,\n",
    "               'rf__bootstrap': bootstrap}\n",
    "\n",
    "# preprocessing pipelines for both numeric and categorical data\n",
    "numerical_transformer = Pipeline(steps=[\n",
    "    ('imputer', SimpleImputer())])\n",
    "\n",
    "categorical_transformer = Pipeline(steps=[\n",
    "    ('imputer', SimpleImputer(strategy='constant', fill_value='missing')),\n",
    "    ('onehot', OneHotEncoder(handle_unknown='ignore'))])\n",
    "\n",
    "preprocessor_all = ColumnTransformer(\n",
    "    transformers=[\n",
    "        ('num', numerical_transformer, numerical_cols_all),\n",
    "        ('cat', categorical_transformer, categorical_cols_all)])\n",
    "\n",
    "# Append classifier to preprocessing pipeline\n",
    "pipeline_all = Pipeline(steps=[('preprocessor', preprocessor_all),\n",
    "                      ('rf', RandomForestClassifier())])\n",
    "\n",
    "rf_all_tuned = RandomizedSearchCV(estimator = pipeline_all, param_distributions = random_grid, n_iter = 100, cv = 3, verbose=2, random_state=42, n_jobs = -1)\n",
    "# Fit the random search model\n",
    "rf_all_tuned.fit(X_train, y_train)\n",
    "\n",
    "print(rf_all_tuned.best_params_)\n",
    "\n",
    "print((\"best accuracy from grid search, with all features: %.3f\"\n",
    "       % rf_all_tuned.score(X_test, y_test)))"
   ]
  },
  {
   "cell_type": "markdown",
   "metadata": {},
   "source": [
    "Best hyperparameters: {'rf__n_estimators': 1600, 'rf__min_samples_split': 2, 'rf__min_samples_leaf': 1, 'rf__max_features': 'sqrt', 'rf__max_depth': None, 'rf__bootstrap': False, 'preprocessor__num__imputer__strategy': 'mean'}"
   ]
  },
  {
   "cell_type": "markdown",
   "metadata": {},
   "source": [
    "With all predictors, the tuned model has an accuracy of 0.88; this is slightly higher than the untuned model's accuracy of 0.84, but the gain from tuning when usign all predictors is less than the gain when avoiding geographic predictors."
   ]
  },
  {
   "cell_type": "code",
   "execution_count": 100,
   "metadata": {},
   "outputs": [
    {
     "name": "stdout",
     "output_type": "stream",
     "text": [
      "{'mod_B0_69', 'mod_B0_55', 'mod_B0_47', 'mod_B0_8', 'mod_B0_28', 'mod_B0_70', 'mod_B0_67', 'mod_B0_27', 'mod_B0_34', 'mod_B0_25', 'mod_B0_26', 'mod_B0_46', 'mod_B0_29', 'mod_B0_81', 'mod_B0_56', 'mod_B0_90', 'mod_B0_24', 'mod_B0_18', 'mod_B0_32', 'mod_B0_42', 'mod_B0_10', 'mod_B0_38', 'mod_B0_15', 'mod_B0_3', 'mod_B0_45', 'mod_B0_73', 'mod_B0_79', 'mod_B0_59', 'mod_B0_84', 'mod_B0_36', 'mod_B0_40', 'mod_B0_16', 'mod_B0_88', 'mod_B0_78', 'mod_B0_11', 'mod_B0_23', 'mod_B0_72', 'mod_B0_22', 'mod_B0_65', 'mod_B0_57', 'mod_B0_43', 'mod_B0_76', 'mod_B0_80', 'mod_B0_44', 'mod_B0_64', 'mod_B0_71', 'mod_B0_37', 'mod_B0_77', 'mod_B0_7', 'mod_B0_13', 'mod_B0_19', 'mod_B0_61', 'mod_B0_58', 'mod_B0_9', 'mod_B0_54', 'mod_B0_75', 'mod_B0_62', 'mod_B0_0', 'mod_B0_66', 'mod_B0_74', 'mod_B0_31', 'mod_B0_63', 'mod_B0_82', 'mod_B0_33', 'mod_B0_35', 'mod_B0_60', 'mod_B0_53', 'mod_B0_12', 'mod_B0_20', 'mod_B0_30', 'mod_B0_21', 'mod_B0_68', 'mod_B0_14', 'mod_B0_91', 'mod_B0_17'}\n"
     ]
    }
   ],
   "source": [
    "# not all years have the same set modis columns, so before training the final model, \n",
    "# extract only the columns that are present in all years\n",
    "\n",
    "mod_ts_cols_allyears = set(mod_ts_cols)\n",
    "\n",
    "years_list = list(range(2004, 2014)) + list(range(2015, 2019))\n",
    "for year in years_list:\n",
    "    data_year = pd.read_csv('predictionpts_cleaned_' + str(year) + '.csv', index_col = 0)\n",
    "    mod_ts_cols_year = [colname for colname in data_year if colname.startswith('mod')]\n",
    "    mod_ts_cols_allyears = mod_ts_cols_allyears.intersection(set(mod_ts_cols_year))\n",
    "\n",
    "print(mod_ts_cols_allyears)"
   ]
  },
  {
   "cell_type": "code",
   "execution_count": 102,
   "metadata": {},
   "outputs": [
    {
     "name": "stdout",
     "output_type": "stream",
     "text": [
      "0.8273910582908885\n"
     ]
    }
   ],
   "source": [
    "# train final model (no geographic predictors and with tuned parameters)\n",
    "# use it to make predictions of irrigation growth in other years\n",
    "# use only predictors that appear in all years\n",
    "\n",
    "# set predictors\n",
    "numerical_cols_allyears = list(mod_ts_cols_allyears) + phenospectral_cols + missingness_cols\n",
    "numerical_cols_nongeo = list(set(numerical_cols_allyears) - set(geographic_cols))\n",
    "categorical_cols_nongeo = list(set(categorical_cols) - set(geographic_cols))\n",
    "\n",
    "# preprocessing pipelines for both numeric and categorical data\n",
    "numerical_transformer = Pipeline(steps=[\n",
    "    ('imputer', SimpleImputer(strategy='mean'))])\n",
    "\n",
    "categorical_transformer = Pipeline(steps=[\n",
    "    ('imputer', SimpleImputer(strategy='constant', fill_value='missing')),\n",
    "    ('onehot', OneHotEncoder(handle_unknown='ignore'))])\n",
    "\n",
    "preprocessor_nongeo = ColumnTransformer(\n",
    "    transformers=[\n",
    "        ('num', numerical_transformer, numerical_cols_nongeo),\n",
    "        ('cat', categorical_transformer, categorical_cols_nongeo)])\n",
    "\n",
    "# Append classifier to preprocessing pipeline\n",
    "tuned_rf = RandomForestClassifier(n_estimators = 1800, min_samples_split = 2, \n",
    "                                   min_samples_leaf = 1, max_features = 'auto', max_depth = 50, \n",
    "                                   bootstrap = False)\n",
    "\n",
    "pipeline_final = Pipeline(steps=[('preprocessor', preprocessor_nongeo),\n",
    "                      ('rf', tuned_rf)])\n",
    "\n",
    "# training\n",
    "pipeline_final.fit(X_train, y_train)\n",
    "\n",
    "# prediction\n",
    "acc_final = pipeline_final.score(X_test, y_test)\n",
    "print(acc_final)"
   ]
  },
  {
   "cell_type": "code",
   "execution_count": 111,
   "metadata": {},
   "outputs": [
    {
     "name": "stdout",
     "output_type": "stream",
     "text": [
      "2004\n",
      "2005\n"
     ]
    },
    {
     "name": "stderr",
     "output_type": "stream",
     "text": [
      "C:\\ProgramData\\Anaconda3\\lib\\site-packages\\IPython\\core\\interactiveshell.py:3020: DtypeWarning: Columns (115,116,117,118,119,120,121,122,123,124,125,126,127,128,129) have mixed types. Specify dtype option on import or set low_memory=False.\n",
      "  interactivity=interactivity, compiler=compiler, result=result)\n"
     ]
    },
    {
     "name": "stdout",
     "output_type": "stream",
     "text": [
      "2006\n",
      "2007\n",
      "2008\n"
     ]
    },
    {
     "name": "stderr",
     "output_type": "stream",
     "text": [
      "C:\\ProgramData\\Anaconda3\\lib\\site-packages\\IPython\\core\\interactiveshell.py:3020: DtypeWarning: Columns (116,117,118,119,120,121,122,123,124,125,126,127,128,129,130) have mixed types. Specify dtype option on import or set low_memory=False.\n",
      "  interactivity=interactivity, compiler=compiler, result=result)\n"
     ]
    },
    {
     "name": "stdout",
     "output_type": "stream",
     "text": [
      "2009\n"
     ]
    },
    {
     "name": "stderr",
     "output_type": "stream",
     "text": [
      "C:\\ProgramData\\Anaconda3\\lib\\site-packages\\IPython\\core\\interactiveshell.py:3020: DtypeWarning: Columns (116,117,118,119,120,121,122,123,124,125,126,127,128,129,130) have mixed types. Specify dtype option on import or set low_memory=False.\n",
      "  interactivity=interactivity, compiler=compiler, result=result)\n"
     ]
    },
    {
     "name": "stdout",
     "output_type": "stream",
     "text": [
      "2010\n",
      "2011\n",
      "2012\n",
      "2013\n",
      "2015\n",
      "2016\n",
      "2017\n",
      "2018\n",
      "      year    Brazil       SUL  CENTRO-OESTE   SUDESTE  NORDESTE     NORTE\n",
      "0   2004.0  0.322485  0.275085      0.300594  0.470378  0.191011  0.067568\n",
      "1   2005.0  0.337913  0.303962      0.316737  0.472811  0.204730  0.117647\n",
      "2   2006.0  0.338471  0.328659      0.310010  0.436472  0.250543  0.155172\n",
      "3   2007.0  0.346510  0.241297      0.327235  0.512838  0.286013  0.203390\n",
      "4   2008.0  0.298553  0.255457      0.263432  0.418716  0.245335  0.183333\n",
      "5   2009.0  0.355400  0.373338      0.285566  0.476078  0.266805  0.240000\n",
      "6   2010.0  0.420304  0.266735      0.472948  0.578373  0.272349  0.279070\n",
      "7   2011.0  0.364238  0.198226      0.341388  0.585892  0.309264  0.198529\n",
      "8   2012.0  0.461558  0.409758      0.437120  0.602539  0.351678  0.309353\n",
      "9   2013.0  0.461479  0.358826      0.447163  0.662022  0.305874  0.244755\n",
      "10  2015.0  0.508090  0.361339      0.514328  0.715011  0.376615  0.242424\n",
      "11  2016.0  0.448410  0.331401      0.461155  0.618550  0.312661  0.238095\n",
      "12  2017.0  0.447146  0.241837      0.478715  0.634561  0.397919  0.197674\n",
      "13  2018.0  0.415167  0.276928      0.416853  0.597291  0.324461  0.168367\n"
     ]
    }
   ],
   "source": [
    "# predictions in new years\n",
    "\n",
    "# data frame to save predicted percent irrigation in each region\n",
    "columns_list = ['year', 'Brazil', 'SUL', 'CENTRO-OESTE', 'SUDESTE', 'NORDESTE', 'NORTE']\n",
    "predicted_irrig = pd.DataFrame(columns = columns_list)\n",
    "\n",
    "years_list = list(range(2004, 2014)) + list(range(2015, 2019))\n",
    "\n",
    "for year in years_list:\n",
    "    data_year = pd.read_csv('predictionpts_cleaned_' + str(year) + '.csv', index_col = 0)\n",
    "    chosen_predictors = numerical_cols_nongeo + categorical_cols_nongeo\n",
    "    X_year = data_year[chosen_predictors]\n",
    "\n",
    "    prediction = pipeline_final.predict(X_year)\n",
    "    \n",
    "    data_year['prediction'] = prediction\n",
    "    \n",
    "    # percent irrigated by region\n",
    "    percent_Brazil = prediction.mean()\n",
    "    percent_south = data_year[data_year.region == 'SUL'].prediction.mean()\n",
    "    percent_centerwest = data_year[data_year.region == 'CENTRO-OESTE'].prediction.mean()\n",
    "    percent_southeast = data_year[data_year.region == 'SUDESTE'].prediction.mean()\n",
    "    percent_northeast = data_year[data_year.region == 'NORDESTE'].prediction.mean()\n",
    "    percent_north = data_year[data_year.region == 'NORTE'].prediction.mean()\n",
    "\n",
    "    predicted_irrig.loc[len(predicted_irrig)] = [year, percent_Brazil, percent_south,\n",
    "                                             percent_centerwest, percent_southeast,\n",
    "                                             percent_northeast, percent_north]\n",
    "    print(year)\n",
    "    \n",
    "print(predicted_irrig)"
   ]
  },
  {
   "cell_type": "code",
   "execution_count": 123,
   "metadata": {},
   "outputs": [
    {
     "data": {
      "image/png": "[encoded data removed]",
      "text/plain": [
       "<Figure size 432x288 with 1 Axes>"
      ]
     },
     "metadata": {
      "needs_background": "light"
     },
     "output_type": "display_data"
    }
   ],
   "source": [
    "# plot predictions\n",
    "\n",
    "tidy_predictions = predicted_irrig.melt(id_vars = ['year'], value_name = 'percent_irrigated', \n",
    "                                        var_name = 'region')\n",
    "\n",
    "sns.lineplot(x = 'year', y = 'percent_irrigated', data = tidy_predictions, hue = 'region')\n",
    "plt.title('Percent irrigation, predicted; not using geogrpahic predictors')\n",
    "plt.legend(bbox_to_anchor=(1.05, 1), loc=2, borderaxespad=0.)\n",
    "plt.show()"
   ]
  },
  {
   "cell_type": "markdown",
   "metadata": {},
   "source": [
    "Percent irrigation increased from 2004 to 2015 in all regions, then seemed to decline from 2015 to 2018 in most places. The spatial pattern in irrigation is also apparent: irrigation is very common in the south east and least common in the north. Both the north and southeast experience a large incerase in irrigated area in the 2000s, while irrigation stayed relatively constant in the south. There's bias in the percent irrigation that we predict: areas with high irrigation frequency in 2014 (southeast) are underestimated, and areas with low irrigated frequency in 2014 (north) are overestimated. However, we can still draw insights about the temporal trends within each region."
   ]
  },
  {
   "cell_type": "markdown",
   "metadata": {},
   "source": [
    "What if we used geogrpahic predictors?"
   ]
  },
  {
   "cell_type": "code",
   "execution_count": 126,
   "metadata": {},
   "outputs": [
    {
     "name": "stdout",
     "output_type": "stream",
     "text": [
      "0.8834182229767968\n"
     ]
    }
   ],
   "source": [
    "# train final model (no geographic predictors and with tuned parameters)\n",
    "# use it to make predictions of irrigation growth in other years\n",
    "# use only predictors that appear in all years\n",
    "\n",
    "# set predictors\n",
    "numerical_cols_allyears = list(mod_ts_cols_allyears) + phenospectral_cols + missingness_cols\n",
    "numerical_cols_all = numerical_cols_allyears\n",
    "categorical_cols_all = categorical_cols\n",
    "\n",
    "# preprocessing pipelines for both numeric and categorical data\n",
    "numerical_transformer = Pipeline(steps=[\n",
    "    ('imputer', SimpleImputer(strategy='mean'))])\n",
    "\n",
    "categorical_transformer = Pipeline(steps=[\n",
    "    ('imputer', SimpleImputer(strategy='constant', fill_value='missing')),\n",
    "    ('onehot', OneHotEncoder(handle_unknown='ignore'))])\n",
    "\n",
    "preprocessor_all = ColumnTransformer(\n",
    "    transformers=[\n",
    "        ('num', numerical_transformer, numerical_cols_all),\n",
    "        ('cat', categorical_transformer, categorical_cols_all)])\n",
    "\n",
    "# Append classifier to preprocessing pipeline\n",
    "tuned_rf = RandomForestClassifier(n_estimators = 1600, min_samples_split = 2, \n",
    "                                   min_samples_leaf = 1, max_features = 'sqrt', max_depth = None, \n",
    "                                   bootstrap = False)\n",
    "                            \n",
    "pipeline_all = Pipeline(steps=[('preprocessor', preprocessor_all),\n",
    "                      ('rf', tuned_rf)])\n",
    "\n",
    "# training\n",
    "pipeline_all.fit(X_train, y_train)\n",
    "\n",
    "# prediction\n",
    "acc_all = pipeline_all.score(X_test, y_test)\n",
    "print(acc_all)"
   ]
  },
  {
   "cell_type": "code",
   "execution_count": 128,
   "metadata": {},
   "outputs": [
    {
     "name": "stdout",
     "output_type": "stream",
     "text": [
      "2004\n",
      "2005\n"
     ]
    },
    {
     "name": "stderr",
     "output_type": "stream",
     "text": [
      "C:\\ProgramData\\Anaconda3\\lib\\site-packages\\IPython\\core\\interactiveshell.py:3020: DtypeWarning: Columns (115,116,117,118,119,120,121,122,123,124,125,126,127,128,129) have mixed types. Specify dtype option on import or set low_memory=False.\n",
      "  interactivity=interactivity, compiler=compiler, result=result)\n"
     ]
    },
    {
     "name": "stdout",
     "output_type": "stream",
     "text": [
      "2006\n",
      "2007\n",
      "2008\n"
     ]
    },
    {
     "name": "stderr",
     "output_type": "stream",
     "text": [
      "C:\\ProgramData\\Anaconda3\\lib\\site-packages\\IPython\\core\\interactiveshell.py:3020: DtypeWarning: Columns (116,117,118,119,120,121,122,123,124,125,126,127,128,129,130) have mixed types. Specify dtype option on import or set low_memory=False.\n",
      "  interactivity=interactivity, compiler=compiler, result=result)\n"
     ]
    },
    {
     "name": "stdout",
     "output_type": "stream",
     "text": [
      "2009\n"
     ]
    },
    {
     "name": "stderr",
     "output_type": "stream",
     "text": [
      "C:\\ProgramData\\Anaconda3\\lib\\site-packages\\IPython\\core\\interactiveshell.py:3020: DtypeWarning: Columns (116,117,118,119,120,121,122,123,124,125,126,127,128,129,130) have mixed types. Specify dtype option on import or set low_memory=False.\n",
      "  interactivity=interactivity, compiler=compiler, result=result)\n"
     ]
    },
    {
     "name": "stdout",
     "output_type": "stream",
     "text": [
      "2010\n",
      "2011\n",
      "2012\n",
      "2013\n",
      "2015\n",
      "2016\n",
      "2017\n",
      "2018\n",
      "      year    Brazil       SUL  CENTRO-OESTE   SUDESTE  NORDESTE     NORTE\n",
      "0   2004.0  0.396792  0.072696      0.254182  0.945039  0.373034  0.040541\n",
      "1   2005.0  0.392685  0.060109      0.269333  0.932556  0.351811  0.058824\n",
      "2   2006.0  0.398323  0.083789      0.248428  0.929296  0.403331  0.120690\n",
      "3   2007.0  0.426193  0.089761      0.270518  0.960288  0.465553  0.127119\n",
      "4   2008.0  0.385223  0.082538      0.226917  0.927596  0.344851  0.091667\n",
      "5   2009.0  0.432473  0.141493      0.277763  0.946429  0.408177  0.096000\n",
      "6   2010.0  0.468429  0.087090      0.381310  0.973214  0.446292  0.147287\n",
      "7   2011.0  0.428571  0.069942      0.291003  0.970281  0.410082  0.095588\n",
      "8   2012.0  0.478490  0.141249      0.354209  0.978190  0.470470  0.158273\n",
      "9   2013.0  0.477939  0.127347      0.387642  0.980233  0.400405  0.125874\n",
      "10  2015.0  0.504363  0.141052      0.425617  0.986354  0.456072  0.115152\n",
      "11  2016.0  0.472598  0.106717      0.376992  0.977841  0.421189  0.119048\n",
      "12  2017.0  0.478555  0.099660      0.374409  0.983003  0.472042  0.127907\n",
      "13  2018.0  0.456750  0.103296      0.334325  0.974446  0.406844  0.107143\n"
     ]
    }
   ],
   "source": [
    "# predictions in new years - using all predictors\n",
    "\n",
    "# data frame to save predicted percent irrigation in each region\n",
    "columns_list = ['year', 'Brazil', 'SUL', 'CENTRO-OESTE', 'SUDESTE', 'NORDESTE', 'NORTE']\n",
    "predicted_irrig_all = pd.DataFrame(columns = columns_list)\n",
    "\n",
    "years_list = list(range(2004, 2014)) + list(range(2015, 2019))\n",
    "\n",
    "for year in years_list:\n",
    "    data_year = pd.read_csv('predictionpts_cleaned_' + str(year) + '.csv', index_col = 0)\n",
    "    chosen_predictors = numerical_cols_all + categorical_cols_all\n",
    "    X_year = data_year[chosen_predictors]\n",
    "\n",
    "    prediction = pipeline_all.predict(X_year)\n",
    "    \n",
    "    data_year['prediction'] = prediction\n",
    "    \n",
    "    # percent irrigated by region\n",
    "    percent_Brazil = prediction.mean()\n",
    "    percent_south = data_year[data_year.region == 'SUL'].prediction.mean()\n",
    "    percent_centerwest = data_year[data_year.region == 'CENTRO-OESTE'].prediction.mean()\n",
    "    percent_southeast = data_year[data_year.region == 'SUDESTE'].prediction.mean()\n",
    "    percent_northeast = data_year[data_year.region == 'NORDESTE'].prediction.mean()\n",
    "    percent_north = data_year[data_year.region == 'NORTE'].prediction.mean()\n",
    "\n",
    "    predicted_irrig_all.loc[len(predicted_irrig_all)] = [year, percent_Brazil, percent_south,\n",
    "                                             percent_centerwest, percent_southeast,\n",
    "                                             percent_northeast, percent_north]\n",
    "    print(year)\n",
    "    \n",
    "print(predicted_irrig_all)"
   ]
  },
  {
   "cell_type": "code",
   "execution_count": 129,
   "metadata": {},
   "outputs": [
    {
     "data": {
      "image/png": "[encoded data removed]",
      "text/plain": [
       "<Figure size 432x288 with 1 Axes>"
      ]
     },
     "metadata": {
      "needs_background": "light"
     },
     "output_type": "display_data"
    }
   ],
   "source": [
    "# plot predictions\n",
    "\n",
    "tidy_predictions_all = predicted_irrig_all.melt(id_vars = ['year'], value_name = 'percent_irrigated', \n",
    "                                        var_name = 'region')\n",
    "\n",
    "sns.lineplot(x = 'year', y = 'percent_irrigated', data = tidy_predictions_all, hue = 'region')\n",
    "plt.title('Percent irrigation, predicted; using geographic features')\n",
    "plt.legend(bbox_to_anchor=(1.05, 1), loc=2, borderaxespad=0.)\n",
    "plt.show()"
   ]
  },
  {
   "cell_type": "markdown",
   "metadata": {},
   "source": [
    "Although the classifer that is trained with geographic information has a high test accuracy, it doesn't reflect the time trends in irrigation expansion as well as a classifier that doesn't include geographic information. The percent irrigation predicted across time looks very similar to what was observed in 2014, indicating that the geographic spread of irrigation in 2014 has an overly strong pull on predicted irrigation in other years."
   ]
  },
  {
   "cell_type": "markdown",
   "metadata": {},
   "source": [
    "However, the use of regions may still be important. Because different regions have different precipitation seasonality, the modis acquisition dates that best separate the classes are different, and it may be useful to fit a separate classifier per region. "
   ]
  },
  {
   "cell_type": "code",
   "execution_count": 137,
   "metadata": {},
   "outputs": [
    {
     "name": "stderr",
     "output_type": "stream",
     "text": [
      "C:\\ProgramData\\Anaconda3\\lib\\site-packages\\IPython\\core\\interactiveshell.py:3020: DtypeWarning: Columns (115,116,117,118,119,120,121,122,123,124,125,126,127,128,129) have mixed types. Specify dtype option on import or set low_memory=False.\n",
      "  interactivity=interactivity, compiler=compiler, result=result)\n",
      "C:\\ProgramData\\Anaconda3\\lib\\site-packages\\IPython\\core\\interactiveshell.py:3020: DtypeWarning: Columns (116,117,118,119,120,121,122,123,124,125,126,127,128,129,130) have mixed types. Specify dtype option on import or set low_memory=False.\n",
      "  interactivity=interactivity, compiler=compiler, result=result)\n",
      "C:\\ProgramData\\Anaconda3\\lib\\site-packages\\IPython\\core\\interactiveshell.py:3020: DtypeWarning: Columns (116,117,118,119,120,121,122,123,124,125,126,127,128,129,130) have mixed types. Specify dtype option on import or set low_memory=False.\n",
      "  interactivity=interactivity, compiler=compiler, result=result)\n",
      "C:\\ProgramData\\Anaconda3\\lib\\site-packages\\IPython\\core\\interactiveshell.py:3020: DtypeWarning: Columns (115,116,117,118,119,120,121,122,123,124,125,126,127,128,129) have mixed types. Specify dtype option on import or set low_memory=False.\n",
      "  interactivity=interactivity, compiler=compiler, result=result)\n",
      "C:\\ProgramData\\Anaconda3\\lib\\site-packages\\IPython\\core\\interactiveshell.py:3020: DtypeWarning: Columns (116,117,118,119,120,121,122,123,124,125,126,127,128,129,130) have mixed types. Specify dtype option on import or set low_memory=False.\n",
      "  interactivity=interactivity, compiler=compiler, result=result)\n",
      "C:\\ProgramData\\Anaconda3\\lib\\site-packages\\IPython\\core\\interactiveshell.py:3020: DtypeWarning: Columns (116,117,118,119,120,121,122,123,124,125,126,127,128,129,130) have mixed types. Specify dtype option on import or set low_memory=False.\n",
      "  interactivity=interactivity, compiler=compiler, result=result)\n",
      "C:\\ProgramData\\Anaconda3\\lib\\site-packages\\IPython\\core\\interactiveshell.py:3020: DtypeWarning: Columns (115,116,117,118,119,120,121,122,123,124,125,126,127,128,129) have mixed types. Specify dtype option on import or set low_memory=False.\n",
      "  interactivity=interactivity, compiler=compiler, result=result)\n",
      "C:\\ProgramData\\Anaconda3\\lib\\site-packages\\IPython\\core\\interactiveshell.py:3020: DtypeWarning: Columns (116,117,118,119,120,121,122,123,124,125,126,127,128,129,130) have mixed types. Specify dtype option on import or set low_memory=False.\n",
      "  interactivity=interactivity, compiler=compiler, result=result)\n",
      "C:\\ProgramData\\Anaconda3\\lib\\site-packages\\IPython\\core\\interactiveshell.py:3020: DtypeWarning: Columns (116,117,118,119,120,121,122,123,124,125,126,127,128,129,130) have mixed types. Specify dtype option on import or set low_memory=False.\n",
      "  interactivity=interactivity, compiler=compiler, result=result)\n",
      "C:\\ProgramData\\Anaconda3\\lib\\site-packages\\IPython\\core\\interactiveshell.py:3020: DtypeWarning: Columns (115,116,117,118,119,120,121,122,123,124,125,126,127,128,129) have mixed types. Specify dtype option on import or set low_memory=False.\n",
      "  interactivity=interactivity, compiler=compiler, result=result)\n",
      "C:\\ProgramData\\Anaconda3\\lib\\site-packages\\IPython\\core\\interactiveshell.py:3020: DtypeWarning: Columns (116,117,118,119,120,121,122,123,124,125,126,127,128,129,130) have mixed types. Specify dtype option on import or set low_memory=False.\n",
      "  interactivity=interactivity, compiler=compiler, result=result)\n",
      "C:\\ProgramData\\Anaconda3\\lib\\site-packages\\IPython\\core\\interactiveshell.py:3020: DtypeWarning: Columns (116,117,118,119,120,121,122,123,124,125,126,127,128,129,130) have mixed types. Specify dtype option on import or set low_memory=False.\n",
      "  interactivity=interactivity, compiler=compiler, result=result)\n",
      "C:\\ProgramData\\Anaconda3\\lib\\site-packages\\IPython\\core\\interactiveshell.py:3020: DtypeWarning: Columns (115,116,117,118,119,120,121,122,123,124,125,126,127,128,129) have mixed types. Specify dtype option on import or set low_memory=False.\n",
      "  interactivity=interactivity, compiler=compiler, result=result)\n",
      "C:\\ProgramData\\Anaconda3\\lib\\site-packages\\IPython\\core\\interactiveshell.py:3020: DtypeWarning: Columns (116,117,118,119,120,121,122,123,124,125,126,127,128,129,130) have mixed types. Specify dtype option on import or set low_memory=False.\n",
      "  interactivity=interactivity, compiler=compiler, result=result)\n",
      "C:\\ProgramData\\Anaconda3\\lib\\site-packages\\IPython\\core\\interactiveshell.py:3020: DtypeWarning: Columns (116,117,118,119,120,121,122,123,124,125,126,127,128,129,130) have mixed types. Specify dtype option on import or set low_memory=False.\n",
      "  interactivity=interactivity, compiler=compiler, result=result)\n"
     ]
    }
   ],
   "source": [
    "# fit a separate model to each region (don't use geographic features)\n",
    "\n",
    "percent_irrigated_perregion = pd.DataFrame({'year' : years_list})\n",
    "\n",
    "for regionname in ['SUL', 'CENTRO-OESTE', 'SUDESTE', 'NORDESTE', 'NORTE']:\n",
    "    \n",
    "    # fit the model for the region ---------------------------------------------\n",
    "\n",
    "    # set predictors\n",
    "    numerical_cols_allyears = list(mod_ts_cols_allyears) + phenospectral_cols + missingness_cols\n",
    "    numerical_cols_nongeo = list(set(numerical_cols_allyears) - set(geographic_cols))\n",
    "    categorical_cols_nongeo = list(set(categorical_cols) - set(geographic_cols))\n",
    "\n",
    "    # preprocessing pipelines for both numeric and categorical data\n",
    "    numerical_transformer = Pipeline(steps=[\n",
    "        ('imputer', SimpleImputer(strategy='mean'))])\n",
    "\n",
    "    categorical_transformer = Pipeline(steps=[\n",
    "        ('imputer', SimpleImputer(strategy='constant', fill_value='missing')),\n",
    "        ('onehot', OneHotEncoder(handle_unknown='ignore'))])\n",
    "\n",
    "    preprocessor_nongeo = ColumnTransformer(\n",
    "        transformers=[\n",
    "            ('num', numerical_transformer, numerical_cols_nongeo),\n",
    "            ('cat', categorical_transformer, categorical_cols_nongeo)])\n",
    "\n",
    "    # Append classifier to preprocessing pipeline\n",
    "    tuned_rf = RandomForestClassifier(n_estimators = 1800, min_samples_split = 2, \n",
    "                                       min_samples_leaf = 1, max_features = 'auto', max_depth = 50, \n",
    "                                       bootstrap = False)\n",
    "\n",
    "    pipeline_region = Pipeline(steps=[('preprocessor', preprocessor_nongeo),\n",
    "                          ('rf', tuned_rf)])\n",
    "\n",
    "\n",
    "    X_train_region = X_train[X_train.region == regionname]\n",
    "    y_train_region = y_train[X_train.region == regionname]\n",
    "    \n",
    "    # training\n",
    "    pipeline_region.fit(X_train_region, y_train_region)\n",
    "    \n",
    "    #print(regionname)\n",
    "    \n",
    "    yearly_percent_irrig = []\n",
    "    \n",
    "    for year in years_list:\n",
    "        data_year = pd.read_csv('predictionpts_cleaned_' + str(year) + '.csv', index_col = 0)\n",
    "        chosen_predictors = numerical_cols_all + categorical_cols_all\n",
    "        X_year = data_year[chosen_predictors]\n",
    "        X_year_region = X_year[data_year.region == regionname]\n",
    "        prediction = pipeline_all.predict(X_year_region)\n",
    "\n",
    "        percent_irrigated = prediction.mean()\n",
    "        \n",
    "        # save the year's percent irrigated\n",
    "        yearly_percent_irrig.append(percent_irrigated)\n",
    "        \n",
    "        #print(year)\n",
    "    \n",
    "    # save the region's predictions\n",
    "    percent_irrigated_perregion[regionname] = yearly_percent_irrig\n",
    "    #print(percent_irrigated_perregion)"
   ]
  },
  {
   "cell_type": "code",
   "execution_count": 139,
   "metadata": {},
   "outputs": [
    {
     "data": {
      "image/png": "[encoded data removed]",
      "text/plain": [
       "<Figure size 432x288 with 1 Axes>"
      ]
     },
     "metadata": {
      "needs_background": "light"
     },
     "output_type": "display_data"
    }
   ],
   "source": [
    "# plot predictions\n",
    "\n",
    "tidy_predictions_perregion = percent_irrigated_perregion.melt(id_vars = ['year'], value_name = 'percent_irrigated', \n",
    "                                        var_name = 'region')\n",
    "\n",
    "sns.lineplot(x = 'year', y = 'percent_irrigated', data = tidy_predictions_perregion, hue = 'region')\n",
    "plt.title('Percent irrigation, predicted; without geographic features, different model per region')\n",
    "plt.legend(bbox_to_anchor=(1.05, 1), loc=2, borderaxespad=0.)\n",
    "plt.show()"
   ]
  },
  {
   "cell_type": "markdown",
   "metadata": {},
   "source": [
    "When each region is fitted with its own model, the predictions look very similar to the 2014 version. This may be an artifact of an unbalanced set of training points (in the southeast, almost all training points are irrigated; in the north, almost none are irrigated), or it may truly reflect the growth of irrigation through the years. Because seasonality changes almost as much across individual years as across the country, fitting separate models to each region may not actually capture the seasonal and phenological variability we're interested in."
   ]
  },
  {
   "cell_type": "markdown",
   "metadata": {},
   "source": [
    "Conclusion: continue using a single model across Brazil and don't include geographical features. Avoiding geographical features allows us to predict pattern of irrigation spread in space and doesn't force the model to place weight on the spatial pattern observed in the training year. Although separating models by region would in theory control for seasonality differences across space, it can't control for the interannual variability, which might be as large as the spatial variability. Also, the regions as defined here might not be the best way to divide the country by seasonality type - so we choose to fit the entire country with a single model. If we had much more training data across multiple years, we could have divided the data into categories of seasonality and fit a separate model to each seasonality type."
   ]
  },
  {
   "cell_type": "code",
   "execution_count": null,
   "metadata": {},
   "outputs": [],
   "source": []
  }
 ],
 "metadata": {
  "kernelspec": {
   "display_name": "Python 3",
   "language": "python",
   "name": "python3"
  },
  "language_info": {
   "codemirror_mode": {
    "name": "ipython",
    "version": 3
   },
   "file_extension": ".py",
   "mimetype": "text/x-python",
   "name": "python",
   "nbconvert_exporter": "python",
   "pygments_lexer": "ipython3",
   "version": "3.7.1"
  }
 },
 "nbformat": 4,
 "nbformat_minor": 2
}
